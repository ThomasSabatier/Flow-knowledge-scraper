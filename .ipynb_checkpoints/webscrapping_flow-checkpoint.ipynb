{
 "cells": [
  {
   "cell_type": "code",
   "execution_count": 76,
   "id": "c11cf1ba",
   "metadata": {},
   "outputs": [],
   "source": [
    "import re\n",
    "import requests\n",
    "from selenium import webdriver\n",
    "from selenium.webdriver.chrome.service import Service\n",
    "from selenium.webdriver.common.by import By\n",
    "from selenium.webdriver.support.ui import WebDriverWait\n",
    "from selenium.webdriver.support import expected_conditions as EC\n",
    "from selenium.webdriver.chrome.options import Options\n"
   ]
  },
  {
   "cell_type": "code",
   "execution_count": 3,
   "id": "d911590c",
   "metadata": {},
   "outputs": [],
   "source": [
    "url = \"https://flow.hemiptera-databases.org/flow/?db=flow&page=explorer&card=families&lang=en\""
   ]
  },
  {
   "cell_type": "code",
   "execution_count": 4,
   "id": "c7415bcd",
   "metadata": {},
   "outputs": [],
   "source": [
    "driver = webdriver.Chrome()\n",
    "driver.get(url)"
   ]
  },
  {
   "cell_type": "code",
   "execution_count": 5,
   "id": "480c1607",
   "metadata": {},
   "outputs": [],
   "source": [
    "elements = driver.find_elements(By.XPATH, '//*[@id=\"main_container\"]/div[1]/div/table/tbody/tr/td[1]/a')"
   ]
  },
  {
   "cell_type": "code",
   "execution_count": 6,
   "id": "b3932712",
   "metadata": {},
   "outputs": [],
   "source": [
    "all_families_url = []\n",
    "for element in elements:\n",
    "    all_families_url.append(element.get_attribute('href'))\n"
   ]
  },
  {
   "cell_type": "code",
   "execution_count": null,
   "id": "3172125f",
   "metadata": {},
   "outputs": [],
   "source": [
    "all_families_synopsis_url = []\n",
    "for url in all_families_url:\n",
    "    id_number = re.search(r\"id=(\\d+)\", url).group(1)\n",
    "    family_synopsis_url = f\"https://flow.hemiptera-databases.org/flow/?page=explorer&db=flow&lang=en&card=autotext&id={id_number}&loading=1\"\n",
    "    all_families_synopsis_url.append(family_synopsis_url)\n",
    "\n",
    "#all_families_synopsis_url\n"
   ]
  },
  {
   "cell_type": "code",
   "execution_count": 1,
   "id": "c61d88ff",
   "metadata": {},
   "outputs": [
    {
     "ename": "NameError",
     "evalue": "name 'webdriver' is not defined",
     "output_type": "error",
     "traceback": [
      "\u001b[0;31m---------------------------------------------------------------------------\u001b[0m",
      "\u001b[0;31mNameError\u001b[0m                                 Traceback (most recent call last)",
      "Cell \u001b[0;32mIn[1], line 1\u001b[0m\n\u001b[0;32m----> 1\u001b[0m driver \u001b[38;5;241m=\u001b[39m \u001b[43mwebdriver\u001b[49m\u001b[38;5;241m.\u001b[39mChrome()\n\u001b[1;32m      2\u001b[0m driver\u001b[38;5;241m.\u001b[39mget(all_families_synopsis_url[\u001b[38;5;241m0\u001b[39m])\n\u001b[1;32m      4\u001b[0m iframe \u001b[38;5;241m=\u001b[39m driver\u001b[38;5;241m.\u001b[39mfind_element(By\u001b[38;5;241m.\u001b[39mID, \u001b[38;5;124m\"\u001b[39m\u001b[38;5;124mmainFrame\u001b[39m\u001b[38;5;124m\"\u001b[39m)\n",
      "\u001b[0;31mNameError\u001b[0m: name 'webdriver' is not defined"
     ]
    }
   ],
   "source": [
    "driver = webdriver.Chrome()\n",
    "driver.get(all_families_synopsis_url[0])\n",
    "\n",
    "iframe = driver.find_element(By.ID, \"mainFrame\")\n",
    "\n",
    "driver.switch_to.frame(iframe)\n",
    "synopsis = driver.find_element(By.XPATH,'//*[@id=\"mainCardDiv\"]/table/tbody/tr[2]/td[1]').text\n",
    "    \n",
    "driver.switch_to.default_content()\n",
    "\n",
    "#synopsis"
   ]
  },
  {
   "cell_type": "code",
   "execution_count": 80,
   "id": "28108ba4",
   "metadata": {},
   "outputs": [
    {
     "name": "stderr",
     "output_type": "stream",
     "text": [
      "/var/folders/qy/0thy2lvj30375ytg_3vm50yr0000gn/T/ipykernel_1322/3220566877.py:4: DeprecationWarning: headless property is deprecated, instead use add_argument('--headless') or add_argument('--headless=new')\n",
      "  options.headless = True\n"
     ]
    }
   ],
   "source": [
    "\n",
    "options = Options()\n",
    "options.headless = True\n",
    "driver = webdriver.Chrome(options=options)\n",
    "\n",
    "texts = []\n",
    "\n",
    "for i, url in enumerate(all_families_synopsis_url):\n",
    "    if i != 0:\n",
    "        driver.execute_script(\"window.open('')\")\n",
    "        driver.switch_to.window(driver.window_handles[i])\n",
    "    driver.get(url)\n",
    "    iframe = driver.find_element(By.ID, \"mainFrame\")\n",
    "    driver.switch_to.frame(iframe)\n",
    "    #family = driver.find_element(By.XPATH, '//*[@id=\"mainCardDiv\"]/table/tbody/tr[1]/td[1]/span[1]/a')\n",
    "    synopsis = driver.find_element(By.XPATH,'//*[@id=\"mainCardDiv\"]/table/tbody/tr[2]/td[1]').text\n",
    "    texts.append(synopsis)\n",
    "    driver.switch_to.default_content()\n",
    "    \n",
    "driver.quit()\n"
   ]
  },
  {
   "cell_type": "code",
   "execution_count": null,
   "id": "07f04f8a",
   "metadata": {},
   "outputs": [],
   "source": [
    "all_texts = \"\"\n",
    "for text in texts:\n",
    "    all_texts += text\n",
    "    \n",
    "#all_texts"
   ]
  },
  {
   "cell_type": "code",
   "execution_count": 84,
   "id": "92b1ea6e",
   "metadata": {},
   "outputs": [],
   "source": [
    "with open(f'planthoppers_synopsis_flow.txt', 'w') as f:\n",
    "    f.write(all_texts)"
   ]
  },
  {
   "cell_type": "code",
   "execution_count": null,
   "id": "c0f4a013",
   "metadata": {},
   "outputs": [],
   "source": []
  }
 ],
 "metadata": {
  "kernelspec": {
   "display_name": "Python 3 (ipykernel)",
   "language": "python",
   "name": "python3"
  },
  "language_info": {
   "codemirror_mode": {
    "name": "ipython",
    "version": 3
   },
   "file_extension": ".py",
   "mimetype": "text/x-python",
   "name": "python",
   "nbconvert_exporter": "python",
   "pygments_lexer": "ipython3",
   "version": "3.9.16"
  }
 },
 "nbformat": 4,
 "nbformat_minor": 5
}
